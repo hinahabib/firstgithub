{
 "cells": [
  {
   "cell_type": "markdown",
   "id": "49dd8bc2",
   "metadata": {},
   "source": [
    "# -Indexing"
   ]
  },
  {
   "cell_type": "code",
   "execution_count": 1,
   "id": "22de032f",
   "metadata": {},
   "outputs": [
    {
     "data": {
      "text/plain": [
       "'Samosa Pakora'"
      ]
     },
     "execution_count": 1,
     "metadata": {},
     "output_type": "execute_result"
    }
   ],
   "source": [
    "#make a string\n",
    "a = \"Samosa Pakora\"\n",
    "a"
   ]
  },
  {
   "cell_type": "code",
   "execution_count": 2,
   "id": "277d9fbc",
   "metadata": {},
   "outputs": [
    {
     "data": {
      "text/plain": [
       "'Samosa Pakora'"
      ]
     },
     "execution_count": 2,
     "metadata": {},
     "output_type": "execute_result"
    }
   ],
   "source": [
    "a"
   ]
  },
  {
   "cell_type": "code",
   "execution_count": 3,
   "id": "8326cb81",
   "metadata": {},
   "outputs": [
    {
     "data": {
      "text/plain": [
       "'S'"
      ]
     },
     "execution_count": 3,
     "metadata": {},
     "output_type": "execute_result"
    }
   ],
   "source": [
    "a[0]"
   ]
  },
  {
   "cell_type": "code",
   "execution_count": 4,
   "id": "547f0e18",
   "metadata": {},
   "outputs": [
    {
     "data": {
      "text/plain": [
       "'a'"
      ]
     },
     "execution_count": 4,
     "metadata": {},
     "output_type": "execute_result"
    }
   ],
   "source": [
    "a[5]"
   ]
  },
  {
   "cell_type": "code",
   "execution_count": 5,
   "id": "d2334158",
   "metadata": {},
   "outputs": [
    {
     "data": {
      "text/plain": [
       "'P'"
      ]
     },
     "execution_count": 5,
     "metadata": {},
     "output_type": "execute_result"
    }
   ],
   "source": [
    "a[7]"
   ]
  },
  {
   "cell_type": "code",
   "execution_count": 6,
   "id": "ed21f12c",
   "metadata": {},
   "outputs": [
    {
     "data": {
      "text/plain": [
       "13"
      ]
     },
     "execution_count": 6,
     "metadata": {},
     "output_type": "execute_result"
    }
   ],
   "source": [
    "# finding length of Index\n",
    "len(a)"
   ]
  },
  {
   "cell_type": "code",
   "execution_count": 7,
   "id": "a168de90",
   "metadata": {},
   "outputs": [
    {
     "data": {
      "text/plain": [
       "'a'"
      ]
     },
     "execution_count": 7,
     "metadata": {},
     "output_type": "execute_result"
    }
   ],
   "source": [
    "a[12]"
   ]
  },
  {
   "cell_type": "code",
   "execution_count": 8,
   "id": "ff605311",
   "metadata": {},
   "outputs": [
    {
     "data": {
      "text/plain": [
       "'r'"
      ]
     },
     "execution_count": 8,
     "metadata": {},
     "output_type": "execute_result"
    }
   ],
   "source": [
    "a[3-5] \n",
    "# it choose first letter only. To select range we have to put (:)"
   ]
  },
  {
   "cell_type": "code",
   "execution_count": 9,
   "id": "cfd3ee06",
   "metadata": {
    "scrolled": true
   },
   "outputs": [
    {
     "data": {
      "text/plain": [
       "'Samosa'"
      ]
     },
     "execution_count": 9,
     "metadata": {},
     "output_type": "execute_result"
    }
   ],
   "source": [
    "#last index is exclusive\n",
    "a[0:6]"
   ]
  },
  {
   "cell_type": "code",
   "execution_count": 10,
   "id": "3e7e2f3d",
   "metadata": {},
   "outputs": [
    {
     "data": {
      "text/plain": [
       "'S'"
      ]
     },
     "execution_count": 10,
     "metadata": {},
     "output_type": "execute_result"
    }
   ],
   "source": [
    "a[0:6-7:12]"
   ]
  },
  {
   "cell_type": "code",
   "execution_count": 11,
   "id": "f05ee5c3",
   "metadata": {},
   "outputs": [
    {
     "data": {
      "text/plain": [
       "'a'"
      ]
     },
     "execution_count": 11,
     "metadata": {},
     "output_type": "execute_result"
    }
   ],
   "source": [
    "a[-5]"
   ]
  },
  {
   "cell_type": "code",
   "execution_count": 12,
   "id": "08c0c54b",
   "metadata": {},
   "outputs": [
    {
     "data": {
      "text/plain": [
       "''"
      ]
     },
     "execution_count": 12,
     "metadata": {},
     "output_type": "execute_result"
    }
   ],
   "source": [
    "a[-1:-6]"
   ]
  },
  {
   "cell_type": "code",
   "execution_count": 13,
   "id": "7457a750",
   "metadata": {},
   "outputs": [
    {
     "data": {
      "text/plain": [
       "'Pako'"
      ]
     },
     "execution_count": 13,
     "metadata": {},
     "output_type": "execute_result"
    }
   ],
   "source": [
    "a[-6:-2]\n"
   ]
  },
  {
   "cell_type": "code",
   "execution_count": 14,
   "id": "9904fd66",
   "metadata": {},
   "outputs": [
    {
     "data": {
      "text/plain": [
       "''"
      ]
     },
     "execution_count": 14,
     "metadata": {},
     "output_type": "execute_result"
    }
   ],
   "source": [
    "a[-6:0]"
   ]
  },
  {
   "cell_type": "code",
   "execution_count": 15,
   "id": "ea6e13a3",
   "metadata": {},
   "outputs": [
    {
     "data": {
      "text/plain": [
       "''"
      ]
     },
     "execution_count": 15,
     "metadata": {},
     "output_type": "execute_result"
    }
   ],
   "source": [
    "a[-6:1]"
   ]
  },
  {
   "cell_type": "code",
   "execution_count": 16,
   "id": "15340e4a",
   "metadata": {},
   "outputs": [
    {
     "data": {
      "text/plain": [
       "'Pakor'"
      ]
     },
     "execution_count": 16,
     "metadata": {},
     "output_type": "execute_result"
    }
   ],
   "source": [
    "a[-6:-1]\n",
    "# last letter_index is excluded"
   ]
  },
  {
   "cell_type": "code",
   "execution_count": 17,
   "id": "315f988a",
   "metadata": {},
   "outputs": [
    {
     "data": {
      "text/plain": [
       "'Pakora'"
      ]
     },
     "execution_count": 17,
     "metadata": {},
     "output_type": "execute_result"
    }
   ],
   "source": [
    "# last letter_index included\n",
    "a[-6:13]"
   ]
  },
  {
   "cell_type": "code",
   "execution_count": 18,
   "id": "3a2e9f37",
   "metadata": {},
   "outputs": [
    {
     "data": {
      "text/plain": [
       "'Briyani'"
      ]
     },
     "execution_count": 18,
     "metadata": {},
     "output_type": "execute_result"
    }
   ],
   "source": [
    "food = \"Briyani\"\n",
    "food"
   ]
  },
  {
   "cell_type": "code",
   "execution_count": 19,
   "id": "d3b9f71e",
   "metadata": {},
   "outputs": [
    {
     "data": {
      "text/plain": [
       "7"
      ]
     },
     "execution_count": 19,
     "metadata": {},
     "output_type": "execute_result"
    }
   ],
   "source": [
    "len(food)"
   ]
  },
  {
   "cell_type": "code",
   "execution_count": 20,
   "id": "89387bc7",
   "metadata": {},
   "outputs": [
    {
     "data": {
      "text/plain": [
       "'BRIYANI'"
      ]
     },
     "execution_count": 20,
     "metadata": {},
     "output_type": "execute_result"
    }
   ],
   "source": [
    "# Uppercase letters\n",
    "food.upper()"
   ]
  },
  {
   "cell_type": "code",
   "execution_count": 21,
   "id": "3dc9ab89",
   "metadata": {},
   "outputs": [
    {
     "data": {
      "text/plain": [
       "'briyani'"
      ]
     },
     "execution_count": 21,
     "metadata": {},
     "output_type": "execute_result"
    }
   ],
   "source": [
    "#lowercase letters\n",
    "food.lower()"
   ]
  },
  {
   "cell_type": "code",
   "execution_count": 22,
   "id": "396acfc1",
   "metadata": {},
   "outputs": [
    {
     "data": {
      "text/plain": [
       "'Shriyani'"
      ]
     },
     "execution_count": 22,
     "metadata": {},
     "output_type": "execute_result"
    }
   ],
   "source": [
    "food.replace(\"Br\", \"Shr\")"
   ]
  },
  {
   "cell_type": "code",
   "execution_count": 23,
   "id": "b4ce66d4",
   "metadata": {},
   "outputs": [
    {
     "data": {
      "text/plain": [
       "'baba_aamar with Dr Aamar tufail'"
      ]
     },
     "execution_count": 23,
     "metadata": {},
     "output_type": "execute_result"
    }
   ],
   "source": [
    "name = \"baba_aamar with Dr Aamar tufail\"\n",
    "name"
   ]
  },
  {
   "cell_type": "code",
   "execution_count": 24,
   "id": "01c8e0c6",
   "metadata": {},
   "outputs": [
    {
     "data": {
      "text/plain": [
       "1"
      ]
     },
     "execution_count": 24,
     "metadata": {},
     "output_type": "execute_result"
    }
   ],
   "source": [
    "name.count(\"A\")"
   ]
  },
  {
   "cell_type": "code",
   "execution_count": 25,
   "id": "3e67acf6",
   "metadata": {},
   "outputs": [
    {
     "data": {
      "text/plain": [
       "2"
      ]
     },
     "execution_count": 25,
     "metadata": {},
     "output_type": "execute_result"
    }
   ],
   "source": [
    "name.count(\"b\")"
   ]
  },
  {
   "cell_type": "markdown",
   "id": "c226b7f3",
   "metadata": {},
   "source": [
    "### -finding on index number in string"
   ]
  },
  {
   "cell_type": "code",
   "execution_count": 26,
   "id": "d0a08ce6",
   "metadata": {},
   "outputs": [
    {
     "data": {
      "text/plain": [
       "'baba_aamar with Dr Aamar Tufail'"
      ]
     },
     "execution_count": 26,
     "metadata": {},
     "output_type": "execute_result"
    }
   ],
   "source": [
    "name = \"baba_aamar with Dr Aamar Tufail\"\n",
    "name"
   ]
  },
  {
   "cell_type": "code",
   "execution_count": 27,
   "id": "63dcc7ee",
   "metadata": {},
   "outputs": [
    {
     "data": {
      "text/plain": [
       "16"
      ]
     },
     "execution_count": 27,
     "metadata": {},
     "output_type": "execute_result"
    }
   ],
   "source": [
    "name.find(\"Dr\")"
   ]
  },
  {
   "cell_type": "code",
   "execution_count": 28,
   "id": "bc78c6c0",
   "metadata": {},
   "outputs": [],
   "source": [
    "## -how to split a string\n",
    "food = \"I love samosa, pakora, raita, briyani and karahi\""
   ]
  },
  {
   "cell_type": "code",
   "execution_count": 29,
   "id": "f141ed3d",
   "metadata": {},
   "outputs": [
    {
     "data": {
      "text/plain": [
       "['I', 'love', 'samosa,', 'pakora,', 'raita,', 'briyani', 'and', 'karahi']"
      ]
     },
     "execution_count": 29,
     "metadata": {},
     "output_type": "execute_result"
    }
   ],
   "source": [
    "food.split()"
   ]
  },
  {
   "cell_type": "code",
   "execution_count": 30,
   "id": "113d507f",
   "metadata": {},
   "outputs": [
    {
     "data": {
      "text/plain": [
       "['I love samosa, pakora, raita, briyani and karahi']"
      ]
     },
     "execution_count": 30,
     "metadata": {},
     "output_type": "execute_result"
    }
   ],
   "source": [
    "food.splitlines()"
   ]
  },
  {
   "cell_type": "code",
   "execution_count": 31,
   "id": "1c062b7a",
   "metadata": {},
   "outputs": [
    {
     "data": {
      "text/plain": [
       "['I love samosa', ' pakora', ' raita', ' briyani and karahi']"
      ]
     },
     "execution_count": 31,
     "metadata": {},
     "output_type": "execute_result"
    }
   ],
   "source": [
    "food.split(\",\")"
   ]
  },
  {
   "cell_type": "markdown",
   "id": "ac3e2f44",
   "metadata": {},
   "source": [
    "### ***Basic data Structure in Python***\n",
    "#### **1-Tuples**\n",
    "#### **2-List**\n",
    "#### **3-Dictionaries**\n",
    "#### **4-Set**"
   ]
  },
  {
   "cell_type": "markdown",
   "id": "5df0e0e1",
   "metadata": {},
   "source": [
    "## 1-Tuple\n",
    "- ordered collection of elements\n",
    "- enclosed in() round braces/paranthesis\n",
    "- different kind of elements can be stored\n",
    "- once elements are stored, cannot change them/unmutated"
   ]
  },
  {
   "cell_type": "code",
   "execution_count": 32,
   "id": "aeb6a008",
   "metadata": {},
   "outputs": [
    {
     "data": {
      "text/plain": [
       "(1, 'python', True, 2.5)"
      ]
     },
     "execution_count": 32,
     "metadata": {},
     "output_type": "execute_result"
    }
   ],
   "source": [
    "#tuple1\n",
    "Tupl = (1,\"python\", True, 2.5)\n",
    "Tupl"
   ]
  },
  {
   "cell_type": "code",
   "execution_count": 33,
   "id": "62b61ae8",
   "metadata": {},
   "outputs": [
    {
     "data": {
      "text/plain": [
       "tuple"
      ]
     },
     "execution_count": 33,
     "metadata": {},
     "output_type": "execute_result"
    }
   ],
   "source": [
    "#type of a tuple\n",
    "type(Tupl)"
   ]
  },
  {
   "cell_type": "code",
   "execution_count": 34,
   "id": "0b977077",
   "metadata": {},
   "outputs": [],
   "source": [
    "Tup2= ( \"Baum\", 5.2, False, 9)"
   ]
  },
  {
   "cell_type": "code",
   "execution_count": 35,
   "id": "e88267a0",
   "metadata": {},
   "outputs": [
    {
     "data": {
      "text/plain": [
       "tuple"
      ]
     },
     "execution_count": 35,
     "metadata": {},
     "output_type": "execute_result"
    }
   ],
   "source": [
    "type(Tup2)"
   ]
  },
  {
   "cell_type": "markdown",
   "id": "6f8b90a7",
   "metadata": {},
   "source": [
    "### -Method of indexing in tuple"
   ]
  },
  {
   "cell_type": "code",
   "execution_count": 36,
   "id": "7aab584d",
   "metadata": {
    "scrolled": true
   },
   "outputs": [
    {
     "data": {
      "text/plain": [
       "'python'"
      ]
     },
     "execution_count": 36,
     "metadata": {},
     "output_type": "execute_result"
    }
   ],
   "source": [
    "Tupl[1]"
   ]
  },
  {
   "cell_type": "code",
   "execution_count": 37,
   "id": "0010b361",
   "metadata": {},
   "outputs": [
    {
     "data": {
      "text/plain": [
       "1"
      ]
     },
     "execution_count": 37,
     "metadata": {},
     "output_type": "execute_result"
    }
   ],
   "source": [
    "Tupl[0]"
   ]
  },
  {
   "cell_type": "code",
   "execution_count": 38,
   "id": "c7fbb6b3",
   "metadata": {},
   "outputs": [
    {
     "data": {
      "text/plain": [
       "4"
      ]
     },
     "execution_count": 38,
     "metadata": {},
     "output_type": "execute_result"
    }
   ],
   "source": [
    "#counts of elements in tuple\n",
    "len(Tupl)"
   ]
  },
  {
   "cell_type": "code",
   "execution_count": 39,
   "id": "3c82ef4b",
   "metadata": {},
   "outputs": [
    {
     "data": {
      "text/plain": [
       "(1, 'python')"
      ]
     },
     "execution_count": 39,
     "metadata": {},
     "output_type": "execute_result"
    }
   ],
   "source": [
    "Tupl[0:2]\n",
    "#last element excluded"
   ]
  },
  {
   "cell_type": "code",
   "execution_count": 40,
   "id": "fe3a76b4",
   "metadata": {},
   "outputs": [
    {
     "data": {
      "text/plain": [
       "(1, 'python')"
      ]
     },
     "execution_count": 40,
     "metadata": {},
     "output_type": "execute_result"
    }
   ],
   "source": [
    "#last element is exclusive\n",
    "Tupl[0:2]"
   ]
  },
  {
   "cell_type": "code",
   "execution_count": 41,
   "id": "3f26003b",
   "metadata": {},
   "outputs": [
    {
     "data": {
      "text/plain": [
       "(0, 'Umair', 3.5, False)"
      ]
     },
     "execution_count": 41,
     "metadata": {},
     "output_type": "execute_result"
    }
   ],
   "source": [
    "#tuple3\n",
    "tup3 = (0, \"Umair\", 3.5, False)\n",
    "tup3"
   ]
  },
  {
   "cell_type": "code",
   "execution_count": 42,
   "id": "08ac0b13",
   "metadata": {},
   "outputs": [
    {
     "data": {
      "text/plain": [
       "(1, 'python', True, 2.5, 'Baum', 5.2, False, 9)"
      ]
     },
     "execution_count": 42,
     "metadata": {},
     "output_type": "execute_result"
    }
   ],
   "source": [
    "#concatenation of 2 tuples (add 2 or more than 2 tuples)\n",
    "Tupl + Tup2"
   ]
  },
  {
   "cell_type": "code",
   "execution_count": 43,
   "id": "00567eef",
   "metadata": {},
   "outputs": [
    {
     "data": {
      "text/plain": [
       "(1, 'python', True, 2.5, 1, 'python', True, 2.5, 'Baum', 5.2, False, 9)"
      ]
     },
     "execution_count": 43,
     "metadata": {},
     "output_type": "execute_result"
    }
   ],
   "source": [
    "#string repetition and concatination\n",
    "Tupl*2 + Tup2"
   ]
  },
  {
   "cell_type": "code",
   "execution_count": 44,
   "id": "f690da36",
   "metadata": {
    "scrolled": true
   },
   "outputs": [
    {
     "data": {
      "text/plain": [
       "(11, 25, 70, 18, 55, 250)"
      ]
     },
     "execution_count": 44,
     "metadata": {},
     "output_type": "execute_result"
    }
   ],
   "source": [
    "#tuple4\n",
    "tup4 = (11, 25, 70, 18, 55, 250)\n",
    "tup4"
   ]
  },
  {
   "cell_type": "code",
   "execution_count": 45,
   "id": "ae51c68b",
   "metadata": {
    "scrolled": true
   },
   "outputs": [
    {
     "data": {
      "text/plain": [
       "11"
      ]
     },
     "execution_count": 45,
     "metadata": {},
     "output_type": "execute_result"
    }
   ],
   "source": [
    "#minimum amount in tuple3\n",
    "min(tup4)"
   ]
  },
  {
   "cell_type": "code",
   "execution_count": 46,
   "id": "dbb15579",
   "metadata": {},
   "outputs": [
    {
     "data": {
      "text/plain": [
       "250"
      ]
     },
     "execution_count": 46,
     "metadata": {},
     "output_type": "execute_result"
    }
   ],
   "source": [
    "#maximum\n",
    "max(tup4)"
   ]
  },
  {
   "cell_type": "code",
   "execution_count": 47,
   "id": "0cd57084",
   "metadata": {},
   "outputs": [
    {
     "data": {
      "text/plain": [
       "(11, 25, 70, 18, 55, 250, 11, 25, 70, 18, 55, 250)"
      ]
     },
     "execution_count": 47,
     "metadata": {},
     "output_type": "execute_result"
    }
   ],
   "source": [
    "tup4*2 # repeat"
   ]
  },
  {
   "cell_type": "markdown",
   "id": "7f1a9a58",
   "metadata": {},
   "source": [
    "tup4 * tup3 # not possible"
   ]
  },
  {
   "cell_type": "markdown",
   "id": "c4c6669a",
   "metadata": {},
   "source": [
    "---"
   ]
  },
  {
   "cell_type": "markdown",
   "id": "7a74e8e1",
   "metadata": {},
   "source": [
    " ## **2-List**\n",
    "- ordered collection of elements\n",
    "- enclosed in [ ] sqaure brackets\n",
    "- Mutatable, you can change the values"
   ]
  },
  {
   "cell_type": "code",
   "execution_count": 48,
   "id": "a48bb69f",
   "metadata": {},
   "outputs": [
    {
     "data": {
      "text/plain": [
       "[6, 'Umair', False]"
      ]
     },
     "execution_count": 48,
     "metadata": {},
     "output_type": "execute_result"
    }
   ],
   "source": [
    "list1 = [6, \"Umair\", False]\n",
    "list1"
   ]
  },
  {
   "cell_type": "code",
   "execution_count": 49,
   "id": "060a1ba3",
   "metadata": {},
   "outputs": [
    {
     "data": {
      "text/plain": [
       "list"
      ]
     },
     "execution_count": 49,
     "metadata": {},
     "output_type": "execute_result"
    }
   ],
   "source": [
    "type(list1)"
   ]
  },
  {
   "cell_type": "code",
   "execution_count": 50,
   "id": "be265094",
   "metadata": {},
   "outputs": [
    {
     "data": {
      "text/plain": [
       "3"
      ]
     },
     "execution_count": 50,
     "metadata": {},
     "output_type": "execute_result"
    }
   ],
   "source": [
    "len(list1)"
   ]
  },
  {
   "cell_type": "code",
   "execution_count": 51,
   "id": "ddaaa115",
   "metadata": {},
   "outputs": [
    {
     "data": {
      "text/plain": [
       "'Umair'"
      ]
     },
     "execution_count": 51,
     "metadata": {},
     "output_type": "execute_result"
    }
   ],
   "source": [
    "list1[1]"
   ]
  },
  {
   "cell_type": "code",
   "execution_count": 52,
   "id": "5b5fe121",
   "metadata": {},
   "outputs": [
    {
     "data": {
      "text/plain": [
       "[3, 5, 'Khan', 'Codanics', 480, False, 3.5]"
      ]
     },
     "execution_count": 52,
     "metadata": {},
     "output_type": "execute_result"
    }
   ],
   "source": [
    "list2 =[3, 5, \"Khan\", \"Codanics\", 480, False, 3.5]\n",
    "list2"
   ]
  },
  {
   "cell_type": "code",
   "execution_count": 53,
   "id": "4ca15db2",
   "metadata": {},
   "outputs": [
    {
     "data": {
      "text/plain": [
       "[6, 'Umair', False, 3, 5, 'Khan', 'Codanics', 480, False, 3.5]"
      ]
     },
     "execution_count": 53,
     "metadata": {},
     "output_type": "execute_result"
    }
   ],
   "source": [
    "list1 + list2"
   ]
  },
  {
   "cell_type": "code",
   "execution_count": 54,
   "id": "8eb8b448",
   "metadata": {},
   "outputs": [
    {
     "data": {
      "text/plain": [
       "[3,\n",
       " 5,\n",
       " 'Khan',\n",
       " 'Codanics',\n",
       " 480,\n",
       " False,\n",
       " 3.5,\n",
       " 3,\n",
       " 5,\n",
       " 'Khan',\n",
       " 'Codanics',\n",
       " 480,\n",
       " False,\n",
       " 3.5]"
      ]
     },
     "execution_count": 54,
     "metadata": {},
     "output_type": "execute_result"
    }
   ],
   "source": [
    "list2*2"
   ]
  },
  {
   "cell_type": "code",
   "execution_count": 55,
   "id": "ca2f21bb",
   "metadata": {},
   "outputs": [
    {
     "data": {
      "text/plain": [
       "[False, 'Umair', 6]"
      ]
     },
     "execution_count": 55,
     "metadata": {},
     "output_type": "execute_result"
    }
   ],
   "source": [
    "list1.reverse()\n",
    "list1"
   ]
  },
  {
   "cell_type": "code",
   "execution_count": 56,
   "id": "d8e51002",
   "metadata": {},
   "outputs": [
    {
     "data": {
      "text/plain": [
       "[3.5, False, 480, 'Codanics', 'Khan', 5, 3]"
      ]
     },
     "execution_count": 56,
     "metadata": {},
     "output_type": "execute_result"
    }
   ],
   "source": [
    "list2.reverse()\n",
    "list2"
   ]
  },
  {
   "cell_type": "code",
   "execution_count": 57,
   "id": "5424a0cf",
   "metadata": {
    "scrolled": true
   },
   "outputs": [
    {
     "data": {
      "text/plain": [
       "[100, False, 'Umair', 6]"
      ]
     },
     "execution_count": 57,
     "metadata": {},
     "output_type": "execute_result"
    }
   ],
   "source": [
    "list1.insert(0, 100)\n",
    "list1"
   ]
  },
  {
   "cell_type": "code",
   "execution_count": 58,
   "id": "3e976e3a",
   "metadata": {},
   "outputs": [
    {
     "data": {
      "text/plain": [
       "[100, False, 'Umair', 6, 100, False, 'Umair', 6, 100, False, 'Umair', 6]"
      ]
     },
     "execution_count": 58,
     "metadata": {},
     "output_type": "execute_result"
    }
   ],
   "source": [
    "list1*3\n"
   ]
  },
  {
   "cell_type": "code",
   "execution_count": 59,
   "id": "c6e72b0e",
   "metadata": {},
   "outputs": [
    {
     "data": {
      "text/plain": [
       "[100, False, 'Umair', 6, 'Fruits']"
      ]
     },
     "execution_count": 59,
     "metadata": {},
     "output_type": "execute_result"
    }
   ],
   "source": [
    "list1.append(\"Fruits\")\n",
    "list1"
   ]
  },
  {
   "cell_type": "code",
   "execution_count": 60,
   "id": "884f1fc4",
   "metadata": {
    "scrolled": true
   },
   "outputs": [
    {
     "data": {
      "text/plain": [
       "[100, False, 'Umair', 6, 'Fruits']"
      ]
     },
     "execution_count": 60,
     "metadata": {},
     "output_type": "execute_result"
    }
   ],
   "source": [
    "list1"
   ]
  },
  {
   "cell_type": "code",
   "execution_count": 61,
   "id": "8157f469",
   "metadata": {},
   "outputs": [
    {
     "data": {
      "text/plain": [
       "[0, 1, 2, 3, 4]"
      ]
     },
     "execution_count": 61,
     "metadata": {},
     "output_type": "execute_result"
    }
   ],
   "source": [
    "l=list(range(5))\n",
    "l"
   ]
  },
  {
   "cell_type": "code",
   "execution_count": 62,
   "id": "c93575c0",
   "metadata": {},
   "outputs": [
    {
     "data": {
      "text/plain": [
       "[100, True, 'TTTT']"
      ]
     },
     "execution_count": 62,
     "metadata": {},
     "output_type": "execute_result"
    }
   ],
   "source": [
    "\n",
    "list1 = [100, True, \"TTTT\"]\n",
    "list1"
   ]
  },
  {
   "cell_type": "code",
   "execution_count": 63,
   "id": "c1d03530",
   "metadata": {},
   "outputs": [
    {
     "data": {
      "text/plain": [
       "[True, 'TTTT']"
      ]
     },
     "execution_count": 63,
     "metadata": {},
     "output_type": "execute_result"
    }
   ],
   "source": [
    "list1.remove(100)\n",
    "list1"
   ]
  },
  {
   "cell_type": "code",
   "execution_count": 64,
   "id": "7056dfad",
   "metadata": {},
   "outputs": [
    {
     "data": {
      "text/plain": [
       "[True, 'TTTT', '586']"
      ]
     },
     "execution_count": 64,
     "metadata": {},
     "output_type": "execute_result"
    }
   ],
   "source": [
    "list1.append(\"586\") # to append list \n",
    "list1"
   ]
  },
  {
   "cell_type": "code",
   "execution_count": 65,
   "id": "02c15994",
   "metadata": {},
   "outputs": [
    {
     "data": {
      "text/plain": [
       "[True, 'TTTT', '586']"
      ]
     },
     "execution_count": 65,
     "metadata": {},
     "output_type": "execute_result"
    }
   ],
   "source": [
    "list1"
   ]
  },
  {
   "cell_type": "code",
   "execution_count": 66,
   "id": "bb1d1411",
   "metadata": {},
   "outputs": [
    {
     "data": {
      "text/plain": [
       "1"
      ]
     },
     "execution_count": 66,
     "metadata": {},
     "output_type": "execute_result"
    }
   ],
   "source": [
    "False_count = list1.count('TTTT')\n",
    "False_count"
   ]
  },
  {
   "cell_type": "code",
   "execution_count": 67,
   "id": "c6e97a7f",
   "metadata": {},
   "outputs": [
    {
     "data": {
      "text/plain": [
       "1"
      ]
     },
     "execution_count": 67,
     "metadata": {},
     "output_type": "execute_result"
    }
   ],
   "source": [
    "False_count = list1.count(\"586\") # enter 586 as Text\n",
    "False_count"
   ]
  },
  {
   "cell_type": "code",
   "execution_count": 68,
   "id": "d0878076",
   "metadata": {},
   "outputs": [
    {
     "data": {
      "text/plain": [
       "1"
      ]
     },
     "execution_count": 68,
     "metadata": {},
     "output_type": "execute_result"
    }
   ],
   "source": [
    "#list1.count() function is used to count how many times a string or element is used in the list\n",
    "l = list1.count('586')\n",
    "l"
   ]
  },
  {
   "cell_type": "code",
   "execution_count": 69,
   "id": "d315596c",
   "metadata": {},
   "outputs": [
    {
     "data": {
      "text/plain": [
       "1"
      ]
     },
     "execution_count": 69,
     "metadata": {},
     "output_type": "execute_result"
    }
   ],
   "source": [
    "l = list1.count(True)\n",
    "l"
   ]
  },
  {
   "cell_type": "code",
   "execution_count": 70,
   "id": "de51c22c",
   "metadata": {
    "scrolled": true
   },
   "outputs": [
    {
     "data": {
      "text/plain": [
       "[True, 'TTTT', '586']"
      ]
     },
     "execution_count": 70,
     "metadata": {},
     "output_type": "execute_result"
    }
   ],
   "source": [
    "list1"
   ]
  },
  {
   "cell_type": "code",
   "execution_count": 71,
   "id": "cfbac48e",
   "metadata": {},
   "outputs": [
    {
     "data": {
      "text/plain": [
       "(0, 'True', 'codanics', 'learner', 'True', 'codes', 'codanics', 'True')"
      ]
     },
     "execution_count": 71,
     "metadata": {},
     "output_type": "execute_result"
    }
   ],
   "source": [
    "list2 =(0, \"True\", \"codanics\", \"learner\", \"True\", \"codes\", \"codanics\", \"True\" )\n",
    "list2"
   ]
  },
  {
   "cell_type": "code",
   "execution_count": 72,
   "id": "a6d9cc1a",
   "metadata": {},
   "outputs": [
    {
     "data": {
      "text/plain": [
       "3"
      ]
     },
     "execution_count": 72,
     "metadata": {},
     "output_type": "execute_result"
    }
   ],
   "source": [
    "m = list2.count('True')\n",
    "m"
   ]
  },
  {
   "cell_type": "code",
   "execution_count": 73,
   "id": "f33c0ff3",
   "metadata": {},
   "outputs": [
    {
     "data": {
      "text/plain": [
       "[0, 10, 20, 12, 8, 77, 90, 55, 25, 23, 15]"
      ]
     },
     "execution_count": 73,
     "metadata": {},
     "output_type": "execute_result"
    }
   ],
   "source": [
    "list3 = [0, 10, 20 , 12, 8, 77, 90, 55, 25, 23, 15]\n",
    "list3"
   ]
  },
  {
   "cell_type": "code",
   "execution_count": 74,
   "id": "98e06e8d",
   "metadata": {},
   "outputs": [
    {
     "data": {
      "text/plain": [
       "11"
      ]
     },
     "execution_count": 74,
     "metadata": {},
     "output_type": "execute_result"
    }
   ],
   "source": [
    "len(list3)"
   ]
  },
  {
   "cell_type": "code",
   "execution_count": 75,
   "id": "ee370231",
   "metadata": {},
   "outputs": [
    {
     "data": {
      "text/plain": [
       "[0, 8, 10, 12, 15, 20, 23, 25, 55, 77, 90]"
      ]
     },
     "execution_count": 75,
     "metadata": {},
     "output_type": "execute_result"
    }
   ],
   "source": [
    "#sorting a list\n",
    "list3.sort()\n",
    "list3"
   ]
  },
  {
   "cell_type": "code",
   "execution_count": 76,
   "id": "df0cd08c",
   "metadata": {},
   "outputs": [
    {
     "data": {
      "text/plain": [
       "30.454545454545453"
      ]
     },
     "execution_count": 76,
     "metadata": {},
     "output_type": "execute_result"
    }
   ],
   "source": [
    "#calculate mean of the list3 elements\n",
    "mean = sum(list3) / len(list3)\n",
    "mean"
   ]
  },
  {
   "cell_type": "markdown",
   "id": "07c92da7",
   "metadata": {},
   "source": [
    "----"
   ]
  },
  {
   "cell_type": "markdown",
   "id": "f7694538",
   "metadata": {},
   "source": [
    "## **Dictionaries**\n",
    "- An unordered collection of elements\n",
    "- Key & Value\n",
    "- Curly brackets {}\n",
    "- Mutatable/Change the values"
   ]
  },
  {
   "cell_type": "code",
   "execution_count": 77,
   "id": "eebd60b4",
   "metadata": {},
   "outputs": [
    {
     "data": {
      "text/plain": [
       "{'samosa': 20, 'pakora': 10, 'raita': 10, 'salad': 40, 'chickenrolls': 100}"
      ]
     },
     "execution_count": 77,
     "metadata": {},
     "output_type": "execute_result"
    }
   ],
   "source": [
    "#Food and their prices\n",
    "food1 = {\"samosa\":20, \"pakora\":10, \"raita\":10, \"salad\":40, \"chickenrolls\":100}\n",
    "food1"
   ]
  },
  {
   "cell_type": "code",
   "execution_count": 78,
   "id": "deaea567",
   "metadata": {},
   "outputs": [
    {
     "data": {
      "text/plain": [
       "dict"
      ]
     },
     "execution_count": 78,
     "metadata": {},
     "output_type": "execute_result"
    }
   ],
   "source": [
    "type(food1)"
   ]
  },
  {
   "cell_type": "code",
   "execution_count": 79,
   "id": "3ff102df",
   "metadata": {},
   "outputs": [
    {
     "data": {
      "text/plain": [
       "dict_keys(['samosa', 'pakora', 'raita', 'salad', 'chickenrolls'])"
      ]
     },
     "execution_count": 79,
     "metadata": {},
     "output_type": "execute_result"
    }
   ],
   "source": [
    "#extract data\n",
    "keys1 = food1.keys()\n",
    "keys1"
   ]
  },
  {
   "cell_type": "code",
   "execution_count": 80,
   "id": "c621e779",
   "metadata": {},
   "outputs": [
    {
     "data": {
      "text/plain": [
       "dict_values([20, 10, 10, 40, 100])"
      ]
     },
     "execution_count": 80,
     "metadata": {},
     "output_type": "execute_result"
    }
   ],
   "source": [
    "value1 = food1.values()\n",
    "value1"
   ]
  },
  {
   "cell_type": "code",
   "execution_count": 81,
   "id": "a40bad01",
   "metadata": {},
   "outputs": [
    {
     "data": {
      "text/plain": [
       "{'samosa': 20,\n",
       " 'pakora': 10,\n",
       " 'raita': 10,\n",
       " 'salad': 40,\n",
       " 'chickenrolls': 100,\n",
       " 'Tikki': 15}"
      ]
     },
     "execution_count": 81,
     "metadata": {},
     "output_type": "execute_result"
    }
   ],
   "source": [
    "#adding new element\n",
    "food1[\"Tikki\"]=15\n",
    "food1"
   ]
  },
  {
   "cell_type": "code",
   "execution_count": 82,
   "id": "73ebcff7",
   "metadata": {},
   "outputs": [
    {
     "data": {
      "text/plain": [
       "{'samosa': 20,\n",
       " 'pakora': 10,\n",
       " 'raita': 10,\n",
       " 'salad': 40,\n",
       " 'chickenrolls': 100,\n",
       " 'Tikki': 12}"
      ]
     },
     "execution_count": 82,
     "metadata": {},
     "output_type": "execute_result"
    }
   ],
   "source": [
    "#update the values\n",
    "food1[\"Tikki\"]=12\n",
    "food1"
   ]
  },
  {
   "cell_type": "code",
   "execution_count": 83,
   "id": "ed88694f",
   "metadata": {},
   "outputs": [
    {
     "data": {
      "text/plain": [
       "{'samosa': 20,\n",
       " 'pakora': 10,\n",
       " 'raita': 10,\n",
       " 'salad': 40,\n",
       " 'chickenrolls': 100,\n",
       " 'Tikki': 12,\n",
       " 'Lassi': 50}"
      ]
     },
     "execution_count": 83,
     "metadata": {},
     "output_type": "execute_result"
    }
   ],
   "source": [
    "food1[\"Lassi\"]=50\n",
    "food1"
   ]
  },
  {
   "cell_type": "code",
   "execution_count": 84,
   "id": "55d370d8",
   "metadata": {},
   "outputs": [
    {
     "data": {
      "text/plain": [
       "{'Dates': 200, 'chocolate': 500, 'Sabzi': 1000}"
      ]
     },
     "execution_count": 84,
     "metadata": {},
     "output_type": "execute_result"
    }
   ],
   "source": [
    "food2 = {\"Dates\":200, \"chocolate\":500, \"Sabzi\": 1000}\n",
    "food2"
   ]
  },
  {
   "cell_type": "code",
   "execution_count": 85,
   "id": "c807936c",
   "metadata": {},
   "outputs": [],
   "source": [
    "#adding both dictionaries (cannot add by +)\n",
    "food1.update(food2)\n"
   ]
  },
  {
   "cell_type": "code",
   "execution_count": 86,
   "id": "717e84ad",
   "metadata": {},
   "outputs": [
    {
     "data": {
      "text/plain": [
       "{'samosa': 20,\n",
       " 'pakora': 10,\n",
       " 'raita': 10,\n",
       " 'salad': 40,\n",
       " 'chickenrolls': 100,\n",
       " 'Tikki': 12,\n",
       " 'Lassi': 50,\n",
       " 'Dates': 200,\n",
       " 'chocolate': 500,\n",
       " 'Sabzi': 1000}"
      ]
     },
     "execution_count": 86,
     "metadata": {},
     "output_type": "execute_result"
    }
   ],
   "source": [
    "food1"
   ]
  },
  {
   "cell_type": "markdown",
   "id": "d9034040",
   "metadata": {},
   "source": [
    "---"
   ]
  },
  {
   "cell_type": "markdown",
   "id": "f36edfff",
   "metadata": {},
   "source": [
    "## **Sets**\n",
    "- Unordered & Unindexed\n",
    "- Curly brackets are used { }\n",
    "- No duplicates are allowed"
   ]
  },
  {
   "cell_type": "code",
   "execution_count": 87,
   "id": "5061eea4",
   "metadata": {},
   "outputs": [
    {
     "data": {
      "text/plain": [
       "{2, 4, 'Aamar', 'Codanics', True, 'Urdu'}"
      ]
     },
     "execution_count": 87,
     "metadata": {},
     "output_type": "execute_result"
    }
   ],
   "source": [
    "s1 = { 2, 4, \"Aamar\", \"Codanics\", \"Urdu\", True }\n",
    "s1"
   ]
  },
  {
   "cell_type": "code",
   "execution_count": 88,
   "id": "1f207db2",
   "metadata": {},
   "outputs": [
    {
     "data": {
      "text/plain": [
       "set"
      ]
     },
     "execution_count": 88,
     "metadata": {},
     "output_type": "execute_result"
    }
   ],
   "source": [
    "type(s1)"
   ]
  },
  {
   "cell_type": "code",
   "execution_count": 89,
   "id": "a369075c",
   "metadata": {},
   "outputs": [
    {
     "data": {
      "text/plain": [
       "{2, 4, 'Aamar', 'Aamar1', 'Codanics', True, 'Urdu'}"
      ]
     },
     "execution_count": 89,
     "metadata": {},
     "output_type": "execute_result"
    }
   ],
   "source": [
    "s1.add(\"Aamar1\")\n",
    "s1"
   ]
  },
  {
   "cell_type": "code",
   "execution_count": 90,
   "id": "666d4026",
   "metadata": {},
   "outputs": [
    {
     "data": {
      "text/plain": [
       "{2, 4, 'Aamar', 'Codanics', True, 'Urdu'}"
      ]
     },
     "execution_count": 90,
     "metadata": {},
     "output_type": "execute_result"
    }
   ],
   "source": [
    "s1.remove(\"Aamar1\")\n",
    "s1"
   ]
  },
  {
   "cell_type": "code",
   "execution_count": 91,
   "id": "ba8c495d",
   "metadata": {},
   "outputs": [
    {
     "data": {
      "text/plain": [
       "{4, 'fun'}"
      ]
     },
     "execution_count": 91,
     "metadata": {},
     "output_type": "execute_result"
    }
   ],
   "source": [
    "s2 = {4, \"fun\"}\n",
    "s2 "
   ]
  },
  {
   "cell_type": "code",
   "execution_count": 92,
   "id": "5a9ab938",
   "metadata": {},
   "outputs": [
    {
     "data": {
      "text/plain": [
       "{2, 4, 'Aamar', 'Codanics', True, 'Urdu', 'fun'}"
      ]
     },
     "execution_count": 92,
     "metadata": {},
     "output_type": "execute_result"
    }
   ],
   "source": [
    "s1.union(s2)"
   ]
  },
  {
   "cell_type": "code",
   "execution_count": 93,
   "id": "9ac6edeb",
   "metadata": {},
   "outputs": [
    {
     "data": {
      "text/plain": [
       "{4}"
      ]
     },
     "execution_count": 93,
     "metadata": {},
     "output_type": "execute_result"
    }
   ],
   "source": [
    "s1.intersection(s2)"
   ]
  },
  {
   "cell_type": "code",
   "execution_count": 94,
   "id": "20d67122",
   "metadata": {},
   "outputs": [
    {
     "data": {
      "text/plain": [
       "{2, 'Aamar', 'Codanics', True, 'Urdu'}"
      ]
     },
     "execution_count": 94,
     "metadata": {},
     "output_type": "execute_result"
    }
   ],
   "source": [
    "s1.difference(s2)"
   ]
  }
 ],
 "metadata": {
  "kernelspec": {
   "display_name": "Python 3 (ipykernel)",
   "language": "python",
   "name": "python3"
  },
  "language_info": {
   "codemirror_mode": {
    "name": "ipython",
    "version": 3
   },
   "file_extension": ".py",
   "mimetype": "text/x-python",
   "name": "python",
   "nbconvert_exporter": "python",
   "pygments_lexer": "ipython3",
   "version": "3.9.7"
  }
 },
 "nbformat": 4,
 "nbformat_minor": 5
}
