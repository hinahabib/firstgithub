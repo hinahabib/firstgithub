{
 "cells": [
  {
   "cell_type": "markdown",
   "id": "5c3ef68e",
   "metadata": {},
   "source": [
    "# Jupyter Note Book"
   ]
  },
  {
   "cell_type": "code",
   "execution_count": 1,
   "id": "b566f7e6",
   "metadata": {},
   "outputs": [
    {
     "name": "stdout",
     "output_type": "stream",
     "text": [
      "Python ka chila with Baba Aammar\n"
     ]
    }
   ],
   "source": [
    "print(\"Python ka chila with Baba Aammar\")"
   ]
  },
  {
   "cell_type": "code",
   "execution_count": null,
   "id": "20012686",
   "metadata": {},
   "outputs": [],
   "source": []
  }
 ],
 "metadata": {
  "kernelspec": {
   "display_name": "Python 3 (ipykernel)",
   "language": "python",
   "name": "python3"
  },
  "language_info": {
   "codemirror_mode": {
    "name": "ipython",
    "version": 3
   },
   "file_extension": ".py",
   "mimetype": "text/x-python",
   "name": "python",
   "nbconvert_exporter": "python",
   "pygments_lexer": "ipython3",
   "version": "3.9.7"
  }
 },
 "nbformat": 4,
 "nbformat_minor": 5
}
